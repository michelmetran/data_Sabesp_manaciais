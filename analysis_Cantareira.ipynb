{
 "cells": [
  {
   "cell_type": "markdown",
   "metadata": {},
   "source": [
    "# Imports"
   ]
  },
  {
   "cell_type": "code",
   "execution_count": null,
   "metadata": {},
   "outputs": [],
   "source": [
    "import os\n",
    "import json\n",
    "import urllib.request\n",
    "import pandas as pd\n",
    "import datetime\n",
    "import calendar\n",
    "import time"
   ]
  },
  {
   "cell_type": "markdown",
   "metadata": {},
   "source": [
    "## Functions"
   ]
  },
  {
   "cell_type": "code",
   "execution_count": null,
   "metadata": {},
   "outputs": [],
   "source": [
    "# Table with start date\n",
    "start = '1990-01-01'\n",
    "end   = '1999-12-31'\n",
    "filename_start = str(datetime.datetime.strptime(str(start), '%Y-%m-%d').strftime('%Y.%m.%d'))\n",
    "filename_end   = str(datetime.datetime.strptime(str(end), '%Y-%m-%d').strftime('%Y.%m.%d'))"
   ]
  },
  {
   "cell_type": "markdown",
   "metadata": {},
   "source": [
    "# Read Table"
   ]
  },
  {
   "cell_type": "code",
   "execution_count": null,
   "metadata": {},
   "outputs": [],
   "source": [
    "filename='tab_Cantareira_1990.01.01_até_1999.12.31'+'.csv'\n",
    "\n",
    "df = pd.read_csv(os.path.join('data', filename),\n",
    "                 #index_col=0,\n",
    "                 #header=True,\n",
    "                 sep=';',\n",
    "                 #date_format='%d/%m/%Y',\n",
    "                 decimal=',')"
   ]
  },
  {
   "cell_type": "code",
   "execution_count": null,
   "metadata": {},
   "outputs": [],
   "source": [
    "df['Data'] = pd.to_datetime(df['Data'], format='%d/%m/%Y')\n",
    "df"
   ]
  },
  {
   "cell_type": "code",
   "execution_count": null,
   "metadata": {},
   "outputs": [],
   "source": [
    "df.dtypes\n",
    "df.describe()"
   ]
  },
  {
   "cell_type": "code",
   "execution_count": null,
   "metadata": {},
   "outputs": [],
   "source": [
    "df = df[df['Data'] >= start]\n",
    "df = df[df['Data'] <= end]\n",
    "df"
   ]
  },
  {
   "cell_type": "markdown",
   "metadata": {},
   "source": [
    "# Write Table"
   ]
  },
  {
   "cell_type": "markdown",
   "metadata": {},
   "source": [
    "filename = 'tab_Cantareira_' + filename_start + '_até_' + filename_end + '.csv'\n",
    "df.to_csv(os.path.join('data', filename),\n",
    "                index=False,\n",
    "                header=True,\n",
    "                encoding='UTF-8-SIG',\n",
    "                sep=';',\n",
    "                decimal=',',\n",
    "                date_format='%d/%m/%Y')"
   ]
  },
  {
   "cell_type": "markdown",
   "metadata": {},
   "source": [
    "# Imagens"
   ]
  },
  {
   "cell_type": "code",
   "execution_count": null,
   "metadata": {},
   "outputs": [],
   "source": [
    "import matplotlib.pyplot as plt\n",
    "%matplotlib notebook"
   ]
  },
  {
   "cell_type": "code",
   "execution_count": null,
   "metadata": {},
   "outputs": [],
   "source": [
    "# Dados\n",
    "plt.close()\n",
    "plt.plot(df['Data'], df['Jaguari-Jacareí_Nivel'])\n",
    "plt.plot(df['Data'], df['Cachoeira_Nivel'])\n",
    "plt.plot(df['Data'], df['Atibainha_Nivel'])\n",
    "plt.plot(df['Data'], df['PaivaCastro_Nivel'])\n",
    "plt.plot(df['Data'], df['ÁguasClaras_Nivel'])\n",
    "\n",
    "# Labels\n",
    "plt.ylabel('Nível (metros)')\n",
    "plt.xlabel('Data')\n",
    "\n",
    "#plt.xaxis.set_major_locator(years)\n",
    "\n",
    "# Formatar o eixo\n",
    "plt.gcf().autofmt_xdate()\n",
    "#plt.fmt_xdata = mdates.DateFormatter('%Y-%m-%d')\n",
    "\n",
    "plt.show()"
   ]
  },
  {
   "cell_type": "code",
   "execution_count": null,
   "metadata": {},
   "outputs": [],
   "source": [
    "# Dados\n",
    "plt.close()\n",
    "#plt.plot(df['Data'], df['Jaguari-Jacareí_VolumePorcentagem'])\n",
    "plt.plot(df['Data'], df['Cachoeira_VolumePorcentagem'])\n",
    "#plt.plot(df['Data'], df['Atibainha_VolumePorcentagem'])\n",
    "#plt.plot(df['Data'], df['PaivaCastro_VolumePorcentagem'])\n",
    "#plt.plot(df['Data'], df['ÁguasClaras_VolumePorcentagem'])\n",
    "\n",
    "# Labels\n",
    "plt.ylabel('Nível (metros)')\n",
    "plt.xlabel('Data')\n",
    "\n",
    "#plt.xaxis.set_major_locator(years)\n",
    "\n",
    "# Formatar o eixo\n",
    "plt.gcf().autofmt_xdate()\n",
    "#plt.fmt_xdata = mdates.DateFormatter('%Y-%m-%d')\n",
    "\n",
    "plt.show()"
   ]
  },
  {
   "cell_type": "code",
   "execution_count": null,
   "metadata": {},
   "outputs": [],
   "source": [
    "# Dados\n",
    "plt.close()\n",
    "plt.plot(df['Data'], df['Jaguari-Jacareí_QJusante'])\n",
    "#plt.plot(df['Data'], df['Cachoeira_QJusante'])\n",
    "#plt.plot(df['Data'], df['Atibainha_QJusante'])\n",
    "#plt.plot(df['Data'], df['PaivaCastro_QJusante'])\n",
    "#plt.plot(df['Data'], df['ÁguasClaras_QJusante'])\n",
    "\n",
    "# Labels\n",
    "plt.ylabel('Nível (metros)')\n",
    "plt.xlabel('Data')\n",
    "\n",
    "#plt.xaxis.set_major_locator(years)\n",
    "\n",
    "# Formatar o eixo\n",
    "plt.gcf().autofmt_xdate()\n",
    "#plt.fmt_xdata = mdates.DateFormatter('%Y-%m-%d')\n",
    "\n",
    "plt.show()"
   ]
  },
  {
   "cell_type": "code",
   "execution_count": null,
   "metadata": {},
   "outputs": [],
   "source": [
    "fig, ax = plt.subplots(nrows=2, ncols=1, figsize=(8, 10))\n",
    "\n",
    "#ax.set_title('Título')\n",
    "#ax.xaxis.set_major_formatter(years_fmt)\n",
    "#ax.xaxis.set_minor_locator(months)"
   ]
  },
  {
   "cell_type": "markdown",
   "metadata": {},
   "source": [
    "# GitHub"
   ]
  },
  {
   "cell_type": "code",
   "execution_count": null,
   "metadata": {},
   "outputs": [],
   "source": [
    "%run '../codes/git/update_github.py'\n",
    "\n",
    "git_full('.', '.', 'Atualizando')"
   ]
  }
 ],
 "metadata": {
  "kernelspec": {
   "display_name": "Python [conda env:pablocarreira-py38] *",
   "language": "python",
   "name": "conda-env-pablocarreira-py38-py"
  },
  "language_info": {
   "codemirror_mode": {
    "name": "ipython",
    "version": 3
   },
   "file_extension": ".py",
   "mimetype": "text/x-python",
   "name": "python",
   "nbconvert_exporter": "python",
   "pygments_lexer": "ipython3",
   "version": "3.8.2"
  },
  "toc": {
   "base_numbering": 1,
   "nav_menu": {},
   "number_sections": true,
   "sideBar": true,
   "skip_h1_title": false,
   "title_cell": "Table of Contents",
   "title_sidebar": "Contents",
   "toc_cell": false,
   "toc_position": {},
   "toc_section_display": true,
   "toc_window_display": true
  }
 },
 "nbformat": 4,
 "nbformat_minor": 4
}
