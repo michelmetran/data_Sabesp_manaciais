{
 "cells": [
  {
   "cell_type": "code",
   "execution_count": null,
   "metadata": {},
   "outputs": [],
   "source": [
    "import os\n",
    "import pandas as pd"
   ]
  },
  {
   "cell_type": "code",
   "execution_count": null,
   "metadata": {},
   "outputs": [],
   "source": [
    "filename='tab_Cantareira_2020-03-29_até_1990-01-01'+'.csv'\n",
    "\n",
    "df = pd.read_csv(os.path.join('data', filename),\n",
    "                 #index_col=0,\n",
    "                 #header=True,\n",
    "                 sep=';',\n",
    "                 #date_format='%d/%m/%Y',\n",
    "                 decimal=',')"
   ]
  },
  {
   "cell_type": "code",
   "execution_count": null,
   "metadata": {},
   "outputs": [],
   "source": [
    "df.head(40)"
   ]
  },
  {
   "cell_type": "code",
   "execution_count": null,
   "metadata": {},
   "outputs": [],
   "source": [
    "df['Data'] = pd.to_datetime(df['Data'], format='%d/%m/%Y')"
   ]
  },
  {
   "cell_type": "code",
   "execution_count": null,
   "metadata": {},
   "outputs": [],
   "source": [
    "df.dtypes"
   ]
  },
  {
   "cell_type": "code",
   "execution_count": null,
   "metadata": {},
   "outputs": [],
   "source": [
    "df.describe()"
   ]
  },
  {
   "cell_type": "code",
   "execution_count": null,
   "metadata": {},
   "outputs": [],
   "source": [
    "import matplotlib.pyplot as plt\n",
    "%matplotlib notebook"
   ]
  },
  {
   "cell_type": "code",
   "execution_count": null,
   "metadata": {},
   "outputs": [],
   "source": [
    "# Dados\n",
    "plt.close()\n",
    "plt.plot(df['Data'], df['Jaguari-Jacareí_Nivel'])\n",
    "plt.plot(df['Data'], df['Cachoeira_Nivel'])\n",
    "plt.plot(df['Data'], df['Atibainha_Nivel'])\n",
    "plt.plot(df['Data'], df['PaivaCastro_Nivel'])\n",
    "plt.plot(df['Data'], df['ÁguasClaras_Nivel'])\n",
    "\n",
    "# Labels\n",
    "plt.ylabel('Nível (metros)')\n",
    "plt.xlabel('Data')\n",
    "\n",
    "#plt.xaxis.set_major_locator(years)\n",
    "\n",
    "# Formatar o eixo\n",
    "plt.gcf().autofmt_xdate()\n",
    "#plt.fmt_xdata = mdates.DateFormatter('%Y-%m-%d')\n",
    "\n",
    "plt.show()"
   ]
  },
  {
   "cell_type": "code",
   "execution_count": null,
   "metadata": {},
   "outputs": [],
   "source": [
    "# Dados\n",
    "plt.close()\n",
    "#plt.plot(df['Data'], df['Jaguari-Jacareí_VolumePorcentagem'])\n",
    "plt.plot(df['Data'], df['Cachoeira_VolumePorcentagem'])\n",
    "#plt.plot(df['Data'], df['Atibainha_VolumePorcentagem'])\n",
    "#plt.plot(df['Data'], df['PaivaCastro_VolumePorcentagem'])\n",
    "#plt.plot(df['Data'], df['ÁguasClaras_VolumePorcentagem'])\n",
    "\n",
    "# Labels\n",
    "plt.ylabel('Nível (metros)')\n",
    "plt.xlabel('Data')\n",
    "\n",
    "#plt.xaxis.set_major_locator(years)\n",
    "\n",
    "# Formatar o eixo\n",
    "plt.gcf().autofmt_xdate()\n",
    "#plt.fmt_xdata = mdates.DateFormatter('%Y-%m-%d')\n",
    "\n",
    "plt.show()"
   ]
  },
  {
   "cell_type": "code",
   "execution_count": null,
   "metadata": {},
   "outputs": [],
   "source": [
    "# Dados\n",
    "plt.close()\n",
    "plt.plot(df['Data'], df['Jaguari-Jacareí_QJusante'])\n",
    "#plt.plot(df['Data'], df['Cachoeira_QJusante'])\n",
    "#plt.plot(df['Data'], df['Atibainha_QJusante'])\n",
    "#plt.plot(df['Data'], df['PaivaCastro_QJusante'])\n",
    "#plt.plot(df['Data'], df['ÁguasClaras_QJusante'])\n",
    "\n",
    "# Labels\n",
    "plt.ylabel('Nível (metros)')\n",
    "plt.xlabel('Data')\n",
    "\n",
    "#plt.xaxis.set_major_locator(years)\n",
    "\n",
    "# Formatar o eixo\n",
    "plt.gcf().autofmt_xdate()\n",
    "#plt.fmt_xdata = mdates.DateFormatter('%Y-%m-%d')\n",
    "\n",
    "plt.show()"
   ]
  },
  {
   "cell_type": "code",
   "execution_count": null,
   "metadata": {},
   "outputs": [],
   "source": []
  },
  {
   "cell_type": "code",
   "execution_count": null,
   "metadata": {},
   "outputs": [],
   "source": []
  },
  {
   "cell_type": "code",
   "execution_count": null,
   "metadata": {},
   "outputs": [],
   "source": [
    "fig, ax = plt.subplots(nrows=2, ncols=1, figsize=(10, 10))\n",
    "\n",
    "#ax.set_title('Título')\n",
    "#ax.xaxis.set_major_formatter(years_fmt)\n",
    "#ax.xaxis.set_minor_locator(months)"
   ]
  },
  {
   "cell_type": "code",
   "execution_count": null,
   "metadata": {},
   "outputs": [],
   "source": []
  }
 ],
 "metadata": {
  "kernelspec": {
   "display_name": "Python 3",
   "language": "python",
   "name": "python3"
  },
  "language_info": {
   "codemirror_mode": {
    "name": "ipython",
    "version": 3
   },
   "file_extension": ".py",
   "mimetype": "text/x-python",
   "name": "python",
   "nbconvert_exporter": "python",
   "pygments_lexer": "ipython3",
   "version": "3.6.10"
  },
  "toc": {
   "base_numbering": 1,
   "nav_menu": {},
   "number_sections": true,
   "sideBar": true,
   "skip_h1_title": false,
   "title_cell": "Table of Contents",
   "title_sidebar": "Contents",
   "toc_cell": false,
   "toc_position": {},
   "toc_section_display": true,
   "toc_window_display": false
  }
 },
 "nbformat": 4,
 "nbformat_minor": 4
}
